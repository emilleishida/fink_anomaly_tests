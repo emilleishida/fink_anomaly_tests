{
 "cells": [
  {
   "cell_type": "code",
   "execution_count": 1,
   "id": "06e842dd",
   "metadata": {},
   "outputs": [
    {
     "name": "stderr",
     "output_type": "stream",
     "text": [
      "/opt/spark-3/python/pyspark/sql/pandas/functions.py:399: UserWarning: In Python 3.6+ and Spark 3.0+, it is preferred to specify type hints for pandas UDF instead of specifying pandas UDF type which will be deprecated in the future releases. See SPARK-28264 for more details.\n",
      "  warnings.warn(\n"
     ]
    }
   ],
   "source": [
    "import pyspark.sql.functions as F\n",
    "from pyspark.sql.functions import pandas_udf, PandasUDFType, udf, broadcast, StringType\n",
    "from pyspark.sql.types import IntegerType, BinaryType, ArrayType, BooleanType\n",
    "\n",
    "from astropy.coordinates import SkyCoord\n",
    "from astropy import units as u\n",
    "\n",
    "import matplotlib.pylab as plt\n",
    "import pandas as pd\n",
    "import numpy as np\n",
    "import glob\n",
    "\n",
    "from fink_filters.ztf.classification import extract_fink_classification\n",
    "from fink_utils.spark.utils import concat_col\n",
    "from fink_science.ztf.xmatch.processor import crossmatch_other_catalog"
   ]
  },
  {
   "cell_type": "code",
   "execution_count": 2,
   "id": "9bbbcb53",
   "metadata": {},
   "outputs": [],
   "source": [
    "# taken from https://github.com/astrolabsoftware/fink-science-portal/blob/b7326ed4febe0e106c1e93565ea622c1c95218e8/assets/spark_ztf_transfer.py#L112C1-L202C14\n",
    "# on 19 FEB 2024\n",
    "def add_classification(spark, df, path_to_tns):\n",
    "    \"\"\" Add classification from Fink & TNS\n",
    "\n",
    "    Parameters\n",
    "    ----------\n",
    "    spark:\n",
    "    df: DataFrame\n",
    "        Spark DataFrame containing ZTF alert data\n",
    "    path_to_tns: str\n",
    "        Path to TNS data (parquet)\n",
    "\n",
    "    Returns\n",
    "    ----------\n",
    "    df: DataFrame\n",
    "        Input DataFrame with 2 new columns `finkclass` and\n",
    "        `tnsclass` containing classification tags.\n",
    "    \"\"\"\n",
    "    # extract Fink classification\n",
    "    df = df.withColumn(\n",
    "        'finkclass',\n",
    "        extract_fink_classification(\n",
    "            df['cdsxmatch'],\n",
    "            df['roid'],\n",
    "            df['mulens'],\n",
    "            df['snn_snia_vs_nonia'],\n",
    "            df['snn_sn_vs_all'],\n",
    "            df['rf_snia_vs_nonia'],\n",
    "            df['candidate.ndethist'],\n",
    "            df['candidate.drb'],\n",
    "            df['candidate.classtar'],\n",
    "            df['candidate.jd'],\n",
    "            df['candidate.jdstarthist'],\n",
    "            df['rf_kn_vs_nonkn'],\n",
    "            df['tracklet']\n",
    "        )\n",
    "    )\n",
    "\n",
    "    pdf_tns_filt = pd.read_parquet(path_to_tns)\n",
    "    pdf_tns_filt_b = spark.sparkContext.broadcast(pdf_tns_filt)\n",
    "\n",
    "    @pandas_udf(StringType(), PandasUDFType.SCALAR)\n",
    "    def crossmatch_with_tns(objectid, ra, dec):\n",
    "        # TNS\n",
    "        pdf = pdf_tns_filt_b.value\n",
    "        ra2, dec2, type2 = pdf['ra'], pdf['declination'], pdf['type']\n",
    "\n",
    "        # create catalogs\n",
    "        catalog_ztf = SkyCoord(\n",
    "            ra=np.array(ra, dtype=np.float) * u.degree,\n",
    "            dec=np.array(dec, dtype=np.float) * u.degree\n",
    "        )\n",
    "        catalog_tns = SkyCoord(\n",
    "            ra=np.array(ra2, dtype=np.float) * u.degree,\n",
    "            dec=np.array(dec2, dtype=np.float) * u.degree\n",
    "        )\n",
    "\n",
    "        # cross-match\n",
    "        idx, d2d, d3d = catalog_tns.match_to_catalog_sky(catalog_ztf)\n",
    "\n",
    "        sub_pdf = pd.DataFrame({\n",
    "            'objectId': objectid.values,\n",
    "            'ra': ra.values,\n",
    "            'dec': dec.values,\n",
    "        })\n",
    "\n",
    "        # cross-match\n",
    "        idx2, d2d2, d3d2 = catalog_ztf.match_to_catalog_sky(catalog_tns)\n",
    "\n",
    "        # set separation length\n",
    "        sep_constraint2 = d2d2.degree < 1.5 / 3600\n",
    "\n",
    "        sub_pdf['TNS'] = ['Unknown'] * len(sub_pdf)\n",
    "        sub_pdf['TNS'][sep_constraint2] = type2.values[idx2[sep_constraint2]]\n",
    "\n",
    "        to_return = objectid.apply(\n",
    "            lambda x: 'Unknown' if x not in sub_pdf['objectId'].values\n",
    "            else sub_pdf['TNS'][sub_pdf['objectId'] == x].values[0]\n",
    "        )\n",
    "\n",
    "        return to_return\n",
    "\n",
    "    df = df.withColumn(\n",
    "        'v:tns_classification',\n",
    "        crossmatch_with_tns(\n",
    "            df['objectId'],\n",
    "            df['candidate.ra'],\n",
    "            df['candidate.dec']\n",
    "        )\n",
    "    )\n",
    "\n",
    "    return df\n",
    "\n"
   ]
  },
  {
   "cell_type": "code",
   "execution_count": 3,
   "id": "65593887",
   "metadata": {},
   "outputs": [],
   "source": [
    "cols0 = ['objectId']\n",
    "cols = [\n",
    "    F.col('candidate.ra').alias('ra'),\n",
    "    F.col('candidate.dec').alias('dec'),\n",
    "    F.col('candidate.fid').alias('fid'),\n",
    "    F.col('candidate.jd').alias('jd'),\n",
    "    F.col('candidate.magpsf').alias('magpsf'),\n",
    "    F.col('candidate.sigmapsf').alias('sigmapsf'),\n",
    "    F.col('candid'),\n",
    "    F.col('cmagpsf'),\n",
    "    F.col('csigmapsf'),\n",
    "    F.col('cfid'),\n",
    "    F.col('cjd'),\n",
    "    F.col('lc_features_r'),\n",
    "    F.col('prv_candidates').alias('prv_candidates'),\n",
    "    F.col('candidate.magap').alias('magap'),\n",
    "    F.col('candidate.sigmagap')\n",
    "]\n",
    "\n",
    "epochs = {\n",
    "    'epoch1': [\n",
    "        '../julien.peloton/archive/science/year=2025/month=07/day=31/',\n",
    "        '../julien.peloton/archive/science/year=2024/month=01/day=08/',\n",
    "        '../julien.peloton/archive/science/year=2023/month=04/day=16/',\n",
    "        '../julien.peloton/archive/science/year=2020/month=10/day=07/',\n",
    "        '../julien.peloton/archive/science/year=2023/month=03/day=18/'\n",
    "    ],\n",
    "    'epoch2':[\n",
    "        '../julien.peloton/archive/science/year=2024/month=08']}\n",
    "\n",
    "# path to TNS data\n",
    "path_to_tns = '/spark_mongo_tmp/julien.peloton/tns.parquet'\n"
   ]
  },
  {
   "cell_type": "code",
   "execution_count": 4,
   "id": "c9841421",
   "metadata": {},
   "outputs": [],
   "source": [
    "# Choose a day\n",
    "epoch = 'epoch1'\n",
    "indx = 3\n",
    "\n",
    "if epoch == 'epoch1':\n",
    "    to_load = epochs[epoch][indx]\n",
    "    date_to_print = to_load[-21:-17] + to_load[-10:-8] + to_load[-3:-1]\n",
    "else:\n",
    "    to_load = epochs[epoch][0]\n",
    "    date_to_print = to_load[-13:-9] + to_load[-2:]\n"
   ]
  },
  {
   "cell_type": "code",
   "execution_count": 5,
   "id": "16c5c9af",
   "metadata": {},
   "outputs": [
    {
     "data": {
      "text/plain": [
       "'20201007'"
      ]
     },
     "execution_count": 5,
     "metadata": {},
     "output_type": "execute_result"
    }
   ],
   "source": [
    "date_to_print"
   ]
  },
  {
   "cell_type": "code",
   "execution_count": 6,
   "id": "dac7d84f",
   "metadata": {},
   "outputs": [
    {
     "name": "stderr",
     "output_type": "stream",
     "text": [
      "25/08/13 15:59:21 WARN package: Truncated the string representation of a plan since it was too large. This behavior can be adjusted by setting 'spark.sql.debug.maxToStringFields'.\n"
     ]
    }
   ],
   "source": [
    "# Read data\n",
    "df1 = spark.read.format('parquet').option('basePath', \n",
    "                                  '../julien.peloton/archive/science').load(to_load)"
   ]
  },
  {
   "cell_type": "code",
   "execution_count": 7,
   "id": "f151f069",
   "metadata": {},
   "outputs": [
    {
     "name": "stderr",
     "output_type": "stream",
     "text": [
      "                                                                                \r"
     ]
    },
    {
     "data": {
      "text/plain": [
       "190206"
      ]
     },
     "execution_count": 7,
     "metadata": {},
     "output_type": "execute_result"
    }
   ],
   "source": [
    "df1.count()"
   ]
  },
  {
   "cell_type": "code",
   "execution_count": 8,
   "id": "120acd13",
   "metadata": {},
   "outputs": [],
   "source": [
    "# concatenate current and historical measurements\n",
    "to_expand = [\"jd\", \"magpsf\",\"fid\",\"sigmapsf\"]\n",
    "\n",
    "prefix='c'\n",
    "\n",
    "for colname in to_expand:\n",
    "        df1 = concat_col(df1, colname, prefix=prefix)"
   ]
  },
  {
   "cell_type": "code",
   "execution_count": 9,
   "id": "fb497f6c",
   "metadata": {},
   "outputs": [],
   "source": [
    "fil = 'r'\n",
    "\n",
    "if fil == 'g':\n",
    "    num = '1'\n",
    "else:\n",
    "    num = '2'\n",
    "\n",
    "df2 = (df1\n",
    "    # zip the parallel arrays into an array of structs\n",
    "    .withColumn(\"z\", F.arrays_zip(\"cfid\", \"cmagpsf\", \"cjd\", \"csigmapsf\"))\n",
    "    # keep only positions r-band (cfid == 2)\n",
    "    .withColumn(\"z2\", F.expr(\"filter(z, x -> x.cfid = \" + num + \" AND x.cmagpsf IS NOT NULL AND x.cjd IS NOT NULL)\"))\n",
    "    # project masked arrays back out\n",
    "    .withColumn(\"cmagpsf_masked\", F.expr(\"transform(z2, x -> x.cmagpsf)\"))\n",
    "    .withColumn(\"cjd_masked\",     F.expr(\"transform(z2, x -> x.cjd)\"))\n",
    "    .withColumn(\"csigmapsf_masked\", F.expr(\"transform(z2, x -> x.csigmapsf)\"))\n",
    "    .withColumn(\"cfid_masked\", F.expr(\"transform(z2, x -> x.cfid)\"))\n",
    "    # count number of points in the r-band\n",
    "    .withColumn('n_' + fil + 'band', F.size('csigmapsf_masked'))\n",
    "    .withColumn('unique_jd_' + fil, F.size(F.array_distinct(\"cjd_masked\")))\n",
    "    .drop(\"z\", \"z2\")\n",
    ")"
   ]
  },
  {
   "cell_type": "code",
   "execution_count": 10,
   "id": "a35ca313",
   "metadata": {},
   "outputs": [
    {
     "name": "stderr",
     "output_type": "stream",
     "text": [
      "                                                                                \r"
     ]
    },
    {
     "data": {
      "text/plain": [
       "19248"
      ]
     },
     "execution_count": 10,
     "metadata": {},
     "output_type": "execute_result"
    }
   ],
   "source": [
    "df2.filter(F.col('n_'+fil+'band') != F.col('unique_jd_'+fil)).count()"
   ]
  },
  {
   "cell_type": "code",
   "execution_count": 11,
   "id": "7ca2313b",
   "metadata": {},
   "outputs": [
    {
     "name": "stderr",
     "output_type": "stream",
     "text": [
      "                                                                                \r"
     ]
    },
    {
     "data": {
      "text/plain": [
       "190206"
      ]
     },
     "execution_count": 11,
     "metadata": {},
     "output_type": "execute_result"
    }
   ],
   "source": [
    "df2.count()"
   ]
  },
  {
   "cell_type": "code",
   "execution_count": 12,
   "id": "afb0455e",
   "metadata": {},
   "outputs": [
    {
     "name": "stderr",
     "output_type": "stream",
     "text": [
      "[Stage 14:===============================>                         (6 + 5) / 11]\r"
     ]
    },
    {
     "name": "stdout",
     "output_type": "stream",
     "text": [
      "+-------+---+---+---+---+----+\n",
      "|column |p05|p25|p50|p75|p95 |\n",
      "+-------+---+---+---+---+----+\n",
      "|n_rband|0.0|0.0|2.0|6.0|16.0|\n",
      "+-------+---+---+---+---+----+\n",
      "\n"
     ]
    },
    {
     "name": "stderr",
     "output_type": "stream",
     "text": [
      "                                                                                \r"
     ]
    }
   ],
   "source": [
    "cols = [\"n_\" + fil + \"band\"]\n",
    "q = [0.05, 0.25, 0.50, 0.75, 0.95]\n",
    "\n",
    "# relativeError=0 => most accurate (more work). Use 0.001 for faster.\n",
    "vals_per_col = df2.stat.approxQuantile(cols, q, relativeError=0)\n",
    "\n",
    "rows = [(c, *vals) for c, vals in zip(cols, vals_per_col)]\n",
    "out = spark.createDataFrame(rows, [\"column\", \"p05\", \"p25\", \"p50\", \"p75\", \"p95\"])\n",
    "out.show(truncate=False)"
   ]
  },
  {
   "cell_type": "code",
   "execution_count": 13,
   "id": "ba3966cb",
   "metadata": {},
   "outputs": [
    {
     "name": "stderr",
     "output_type": "stream",
     "text": [
      "[Stage 18:=======================================================>(94 + 1) / 95]\r"
     ]
    },
    {
     "name": "stdout",
     "output_type": "stream",
     "text": [
      "74003\n",
      "72982\n"
     ]
    },
    {
     "name": "stderr",
     "output_type": "stream",
     "text": [
      "                                                                                \r"
     ]
    }
   ],
   "source": [
    "nband = df2.filter(F.col('n_' + fil + 'band') > 3).count()\n",
    "nband_unique = df2.filter(F.col('unique_jd_' + fil) > 3).count()\n",
    "print(nband)\n",
    "print(nband_unique)"
   ]
  },
  {
   "cell_type": "code",
   "execution_count": 14,
   "id": "69ece8a4",
   "metadata": {},
   "outputs": [
    {
     "name": "stderr",
     "output_type": "stream",
     "text": [
      "[Stage 24:================================================>       (82 + 0) / 95]\r"
     ]
    },
    {
     "name": "stdout",
     "output_type": "stream",
     "text": [
      "38.907\n",
      "38.37\n"
     ]
    },
    {
     "name": "stderr",
     "output_type": "stream",
     "text": [
      "                                                                                \r"
     ]
    }
   ],
   "source": [
    "per_band = np.round(100 * nband/df2.count(),3)\n",
    "per_band_unique = np.round(100*nband_unique/df2.count(), 3)\n",
    "print(per_band)\n",
    "print(per_band_unique)"
   ]
  },
  {
   "cell_type": "code",
   "execution_count": 15,
   "id": "907ec510",
   "metadata": {},
   "outputs": [
    {
     "name": "stderr",
     "output_type": "stream",
     "text": [
      "                                                                                \r"
     ]
    }
   ],
   "source": [
    "df_fil = df2.filter(F.col('n_' + fil +'band') > 3)\n",
    "df_fil_unique = df2.filter(F.col('unique_jd_' + fil) > 3)\n",
    "nobjects = df2.count()\n",
    "nr = df_fil.count()\n",
    "nr_unique = df2.filter(F.col('unique_jd_' + fil) > 3).count()"
   ]
  },
  {
   "cell_type": "code",
   "execution_count": 16,
   "id": "b231d832",
   "metadata": {},
   "outputs": [
    {
     "name": "stderr",
     "output_type": "stream",
     "text": [
      "                                                                                \r"
     ]
    },
    {
     "name": "stdout",
     "output_type": "stream",
     "text": [
      "+-----------+---+---+---+---+----+\n",
      "|column     |p05|p25|p50|p75|p95 |\n",
      "+-----------+---+---+---+---+----+\n",
      "|unique_jd_r|0.0|0.0|2.0|6.0|15.0|\n",
      "+-----------+---+---+---+---+----+\n",
      "\n"
     ]
    }
   ],
   "source": [
    "# count only unique jds\n",
    "cols = [\"unique_jd_\" + fil]\n",
    "q = [0.05, 0.25, 0.50, 0.75, 0.95]\n",
    "\n",
    "# relativeError=0 => most accurate (more work). Use 0.001 for faster.\n",
    "vals_per_col = df2.stat.approxQuantile(cols, q, relativeError=0)\n",
    "\n",
    "rows = [(c, *vals) for c, vals in zip(cols, vals_per_col)]\n",
    "out = spark.createDataFrame(rows, [\"column\", \"p05\", \"p25\", \"p50\", \"p75\", \"p95\"])\n",
    "out.show(truncate=False)"
   ]
  },
  {
   "cell_type": "code",
   "execution_count": 17,
   "id": "12fd2f79",
   "metadata": {},
   "outputs": [
    {
     "name": "stderr",
     "output_type": "stream",
     "text": [
      "                                                                                \r"
     ]
    },
    {
     "data": {
      "image/png": "[encoded data removed]",
      "text/plain": [
       "<Figure size 1600x500 with 2 Axes>"
      ]
     },
     "metadata": {},
     "output_type": "display_data"
    }
   ],
   "source": [
    "# Convert just the column to Pandas\n",
    "values = df_fil.select(\"n_\"  + fil +\"band\").sample(False, 0.2, seed=42).toPandas()\n",
    "values_unique = df_fil_unique.select(\"unique_jd_\"  + fil).sample(False, 0.2, seed=42).toPandas()\n",
    "\n",
    "\n",
    "# Plot histogram\n",
    "plt.figure(figsize=(16, 5))\n",
    "plt.suptitle(date_to_print + ', total n_alerts=' + str(nobjects))\n",
    "\n",
    "plt.subplot(1,2,1)\n",
    "plt.hist(values[\"n_\" + fil + \"band\"].dropna(), bins=50)\n",
    "plt.title('n_' + fil + ' > 3: ' + str(nr) + ', perc='+str(per_band))\n",
    "plt.xlabel(\"number of points in \" + fil + \"-band\")\n",
    "plt.ylabel(\"Frequency\")\n",
    "\n",
    "plt.subplot(1,2,2)\n",
    "plt.hist(values_unique[\"unique_jd_\" + fil].dropna(), bins=50)\n",
    "plt.title('unique_jd_' + fil + ' > 3: ' + str(nr_unique) + ', perc=' + str(per_band_unique))\n",
    "plt.xlabel(\"number of unique jd in \" + fil + \"-band\")\n",
    "plt.ylabel(\"Frequency\")\n",
    "\n",
    "plt.tight_layout()\n",
    "plt.savefig(date_to_print + '_' + fil +  '.png')"
   ]
  },
  {
   "cell_type": "code",
   "execution_count": null,
   "id": "9709d41f",
   "metadata": {},
   "outputs": [],
   "source": []
  },
  {
   "cell_type": "code",
   "execution_count": null,
   "id": "645f577e",
   "metadata": {},
   "outputs": [],
   "source": []
  }
 ],
 "metadata": {
  "kernelspec": {
   "display_name": "Python 3 (ipykernel)",
   "language": "python",
   "name": "python3"
  },
  "language_info": {
   "codemirror_mode": {
    "name": "ipython",
    "version": 3
   },
   "file_extension": ".py",
   "mimetype": "text/x-python",
   "name": "python",
   "nbconvert_exporter": "python",
   "pygments_lexer": "ipython3",
   "version": "3.9.13"
  }
 },
 "nbformat": 4,
 "nbformat_minor": 5
}
