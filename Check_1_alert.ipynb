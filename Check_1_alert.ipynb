{
 "cells": [
  {
   "cell_type": "code",
   "execution_count": 99,
   "id": "de9ea3ea",
   "metadata": {},
   "outputs": [],
   "source": [
    "import io\n",
    "import requests\n",
    "import pandas as pd\n",
    "import numpy as np\n",
    "import matplotlib.pylab as plt\n",
    "import pyspark.sql.functions as F\n",
    "\n",
    "from copy import deepcopy\n",
    "\n",
    "from fink_utils.spark.utils import concat_col\n",
    "from fink_science.ztf.ad_features.processor import extract_features_ad, create_extractor\n",
    "from fink_utils.photometry.conversion import apparent_flux, mag2fluxcal_snana\n",
    "from fink_utils.photometry.utils import is_source_behind\n",
    "from fink_utils.photometry.vect_conversion import vect_dc_mag"
   ]
  },
  {
   "cell_type": "markdown",
   "id": "c1be6c59",
   "metadata": {},
   "source": [
    "Get data of suspicious values"
   ]
  },
  {
   "cell_type": "code",
   "execution_count": 2,
   "id": "e17f1bd2",
   "metadata": {},
   "outputs": [],
   "source": [
    "# get data for problematic alert\n",
    "epochs = {\n",
    "    'epoch1': [\n",
    "        '../julien.peloton/archive/science/year=2025/month=08/day=13/']\n",
    "}\n"
   ]
  },
  {
   "cell_type": "code",
   "execution_count": 3,
   "id": "760e07fd",
   "metadata": {},
   "outputs": [
    {
     "name": "stderr",
     "output_type": "stream",
     "text": [
      "25/08/14 18:52:38 WARN package: Truncated the string representation of a plan since it was too large. This behavior can be adjusted by setting 'spark.sql.debug.maxToStringFields'.\n"
     ]
    }
   ],
   "source": [
    "# Read data\n",
    "to_load = epochs['epoch1'][0]\n",
    "\n",
    "df1 = spark.read.format('parquet').option('basePath', \n",
    "                                  '../julien.peloton/archive/science').load(to_load)"
   ]
  },
  {
   "cell_type": "code",
   "execution_count": 4,
   "id": "24435a91",
   "metadata": {},
   "outputs": [],
   "source": [
    "# problematic alert\n",
    "alert_data = pd.read_csv('data/ZTF19aaochsr.csv')"
   ]
  },
  {
   "cell_type": "code",
   "execution_count": 5,
   "id": "f3c8923f",
   "metadata": {},
   "outputs": [],
   "source": [
    "# get data\n",
    "df = df1.filter(F.col('objectId') == 'ZTF19aaochsr')"
   ]
  },
  {
   "cell_type": "code",
   "execution_count": 6,
   "id": "352ab227",
   "metadata": {},
   "outputs": [],
   "source": [
    "# concatenate current and historical measurements\n",
    "what = ['magpsf', 'jd', 'sigmapsf', 'fid', 'distnr', 'magnr', 'sigmagnr', 'isdiffpos']\n",
    "\n",
    "prefix = 'c'\n",
    "\n",
    "what_prefix = [prefix + i for i in what]\n",
    "\n",
    "for colname in what:\n",
    "    df = concat_col(df, colname, prefix=prefix)"
   ]
  },
  {
   "cell_type": "markdown",
   "id": "45ae6f17",
   "metadata": {},
   "source": [
    "Do feature extraction by hand\n",
    "\n",
    "following what is in the [processor](https://github.com/astrolabsoftware/fink-science/blob/master/fink_science/ztf/ad_features/processor.py)"
   ]
  },
  {
   "cell_type": "code",
   "execution_count": 7,
   "id": "5a4472b4",
   "metadata": {},
   "outputs": [
    {
     "name": "stderr",
     "output_type": "stream",
     "text": [
      "                                                                                \r"
     ]
    }
   ],
   "source": [
    "# create necessary variables\n",
    "cfid = df.select('cfid').toPandas().values[0][0]\n",
    "magpsf = df.select('cmagpsf').toPandas().values[0][0]\n",
    "jd = df.select('cjd').toPandas().values[0][0]\n",
    "sigmapsf = df.select('csigmapsf').toPandas().values[0][0]\n",
    "distnr = df.select('cdistnr').toPandas().values[0][0]\n",
    "sigmagnr = df.select('csigmagnr').toPandas().values[0][0]\n",
    "isdiffpos = df.select('cisdiffpos').toPandas().values[0][0]\n",
    "magnr =df.select('cmagnr').toPandas().values[0][0]"
   ]
  },
  {
   "cell_type": "code",
   "execution_count": 8,
   "id": "f5391f7d",
   "metadata": {},
   "outputs": [
    {
     "data": {
      "text/plain": [
       "29.995671299751848"
      ]
     },
     "execution_count": 8,
     "metadata": {},
     "output_type": "execute_result"
    }
   ],
   "source": [
    "# check range of JD  -- if this is only one alert it should be < 30\n",
    "max(jd) - min(jd)"
   ]
  },
  {
   "cell_type": "code",
   "execution_count": 9,
   "id": "35898c99",
   "metadata": {},
   "outputs": [],
   "source": [
    "# use it exactly as in the processor\n",
    "cfid = np.asarray(cfid, \"int32\")\n",
    "magpsf = np.asarray(magpsf, \"float64\")\n",
    "jd = np.asarray(jd, \"float64\")\n",
    "sigmapsf = np.asarray(sigmapsf, \"float64\")\n",
    "distnr = np.asarray(distnr, \"float64\")\n",
    "sigmagnr = np.asarray(sigmagnr, 'float64')\n",
    "isdiffpos = np.asarray(isdiffpos, 'bool')\n",
    "magnr = np.asarray(magnr, 'float64')"
   ]
  },
  {
   "cell_type": "code",
   "execution_count": 10,
   "id": "7c00d217",
   "metadata": {},
   "outputs": [],
   "source": [
    "# create extractor object from light_curve package\n",
    "extractor = create_extractor()"
   ]
  },
  {
   "cell_type": "code",
   "execution_count": 11,
   "id": "aa2e1876",
   "metadata": {},
   "outputs": [],
   "source": [
    "# keep only g and/or r -- at some point ZTF decided to sent i-band, we ignore it\n",
    "passbands = np.unique(cfid)\n",
    "\n",
    "maskFilter = passbands <= 2\n",
    "passbands = passbands[maskFilter]    ## this is an array = [1,2]"
   ]
  },
  {
   "cell_type": "code",
   "execution_count": 12,
   "id": "db950135",
   "metadata": {},
   "outputs": [],
   "source": [
    "# Select only valid measurements (not upper limits)\n",
    "maskNotNone = magpsf == magpsf          # this is not doing anything\n",
    "mask = ~(np.isnan(magpsf) | np.isnan(sigmapsf)) & maskNotNone"
   ]
  },
  {
   "cell_type": "code",
   "execution_count": 13,
   "id": "2285b07d",
   "metadata": {},
   "outputs": [],
   "source": [
    "magpsf_real = magpsf[mask]\n",
    "sigmapsf_real = sigmapsf[mask]\n",
    "magnr_real = magnr[mask]\n",
    "sigmagnr_real = sigmagnr[mask]\n",
    "isdiffpos_real = isdiffpos[mask]\n",
    "\n",
    "# in the processor this is given the same name, let's keep it here\n",
    "magpsf = magpsf[mask]\n",
    "sigmapsf = sigmapsf[mask]"
   ]
  },
  {
   "cell_type": "code",
   "execution_count": 14,
   "id": "d87a5adc",
   "metadata": {},
   "outputs": [
    {
     "data": {
      "text/plain": [
       "(106,)"
      ]
     },
     "execution_count": 14,
     "metadata": {},
     "output_type": "execute_result"
    }
   ],
   "source": [
    "# size of final array\n",
    "magpsf.shape"
   ]
  },
  {
   "cell_type": "code",
   "execution_count": 15,
   "id": "2b610acc",
   "metadata": {},
   "outputs": [],
   "source": [
    "#number of points per filter\n",
    "fil, freq = np.unique(cfid[mask], return_counts=True)"
   ]
  },
  {
   "cell_type": "code",
   "execution_count": 16,
   "id": "0e6a3943",
   "metadata": {},
   "outputs": [
    {
     "name": "stdout",
     "output_type": "stream",
     "text": [
      "[1 2] [97  9]\n"
     ]
    }
   ],
   "source": [
    "print(fil, freq)"
   ]
  },
  {
   "cell_type": "code",
   "execution_count": 17,
   "id": "37acf2bb",
   "metadata": {},
   "outputs": [
    {
     "data": {
      "text/plain": [
       "0"
      ]
     },
     "execution_count": 17,
     "metadata": {},
     "output_type": "execute_result"
    }
   ],
   "source": [
    "# check SNR - using apparent flux\n",
    "flux = []\n",
    "fluxerr = []\n",
    "\n",
    "for i in range(len(magpsf_real)):\n",
    "    f, ferr = apparent_flux(magpsf_real[i], sigmapsf_real[i], magnr_real[i], \n",
    "                            sigmagnr_real[i], isdiffpos_real[i])\n",
    "    flux.append(f)\n",
    "    fluxerr.append(ferr)\n",
    "    \n",
    "app_flux = np.asarray(flux, 'float64')\n",
    "app_fluxerr = np.asarray(fluxerr, 'float64')\n",
    "\n",
    "snr_ap_flux = app_flux/app_fluxerr\n",
    "\n",
    "sum(snr_ap_flux < 5)"
   ]
  },
  {
   "cell_type": "code",
   "execution_count": 18,
   "id": "06e42104",
   "metadata": {},
   "outputs": [
    {
     "data": {
      "text/plain": [
       "0"
      ]
     },
     "execution_count": 18,
     "metadata": {},
     "output_type": "execute_result"
    }
   ],
   "source": [
    "# check SNR - using magtofluxcal_snana\n",
    "flux, fluxerr = mag2fluxcal_snana(magpsf_real, sigmapsf_real)\n",
    "snr_snana = flux/fluxerr\n",
    "sum(snr_snana < 5)"
   ]
  },
  {
   "cell_type": "code",
   "execution_count": 19,
   "id": "043be8cc",
   "metadata": {},
   "outputs": [
    {
     "name": "stdout",
     "output_type": "stream",
     "text": [
      "Inside!\n"
     ]
    }
   ],
   "source": [
    "# Compute DC mag if need be -- I am not sure I understand why this is needed\n",
    "flag = is_source_behind(distnr[mask])\n",
    "maskDC = np.ones(len(magpsf), dtype=bool)\n",
    "\n",
    "if np.sum(flag) > 0:\n",
    "    print('Inside!')\n",
    "    magnr = np.asarray(magnr, \"float64\")[mask]\n",
    "    sigmagnr = np.asarray(sigmagnr, \"float64\")[mask]\n",
    "    isdiffpos = np.asarray(isdiffpos, \"str\")[mask]\n",
    "\n",
    "    # in-place replacement\n",
    "    magpsf, sigmapsf = vect_dc_mag(magpsf, sigmapsf, magnr, sigmagnr, isdiffpos)\n",
    "    maskDC = ~(np.isnan(magpsf) | np.isnan(sigmapsf))\n",
    "    magpsf = magpsf[maskDC]\n",
    "    sigmapsf = sigmapsf[maskDC]"
   ]
  },
  {
   "cell_type": "code",
   "execution_count": 20,
   "id": "c5ef03dd",
   "metadata": {},
   "outputs": [
    {
     "data": {
      "text/plain": [
       "(106,)"
      ]
     },
     "execution_count": 20,
     "metadata": {},
     "output_type": "execute_result"
    }
   ],
   "source": [
    "maskDC.shape"
   ]
  },
  {
   "cell_type": "code",
   "execution_count": 21,
   "id": "1dd3efc4",
   "metadata": {},
   "outputs": [],
   "source": [
    "# apply both masks -- for some reason\n",
    "jd = jd[mask][maskDC]\n",
    "cfid = cfid[mask][maskDC]"
   ]
  },
  {
   "cell_type": "code",
   "execution_count": 22,
   "id": "87ae9100",
   "metadata": {},
   "outputs": [],
   "source": [
    "# get only useful columns\n",
    "sub = pd.DataFrame({\"magpsf\": magpsf, \"sigmapsf\": sigmapsf, \"jd\": jd, \"cfid\": cfid})"
   ]
  },
  {
   "cell_type": "code",
   "execution_count": 23,
   "id": "ffbdd160",
   "metadata": {},
   "outputs": [],
   "source": [
    "# order in jd\n",
    "sub = sub.sort_values(\"jd\", ascending=True)"
   ]
  },
  {
   "cell_type": "code",
   "execution_count": 25,
   "id": "77a9cc48",
   "metadata": {},
   "outputs": [],
   "source": [
    "# create feature columns names\n",
    "FEATURES_COLS = create_extractor().names\n",
    "columns_count = len(FEATURES_COLS)"
   ]
  },
  {
   "cell_type": "code",
   "execution_count": 26,
   "id": "1eda9340",
   "metadata": {},
   "outputs": [],
   "source": [
    "# check just r-band results before fixing the duplicated issue\n",
    "full_result = {}\n",
    "\n",
    "for passband_id in passbands[1:]: # for each passband\n",
    "    \n",
    "    passband = sub[\"cfid\"].to_numpy() == passband_id # mask only 1 filter\n",
    "    \n",
    "    result = extractor(\n",
    "                sub[\"jd\"].to_numpy()[passband],\n",
    "                sub[\"magpsf\"].to_numpy()[passband],\n",
    "                sub[\"sigmapsf\"].to_numpy()[passband],\n",
    "                fill_value=np.nan,\n",
    "        )\n",
    "    "
   ]
  },
  {
   "cell_type": "code",
   "execution_count": 27,
   "id": "931326e3",
   "metadata": {},
   "outputs": [],
   "source": [
    "full_result[int(passband_id)] = dict(\n",
    "            zip(FEATURES_COLS, [float(v) for v in result])\n",
    "        )"
   ]
  },
  {
   "cell_type": "code",
   "execution_count": 47,
   "id": "334012c5",
   "metadata": {},
   "outputs": [
    {
     "name": "stderr",
     "output_type": "stream",
     "text": [
      "                                                                                \r"
     ]
    }
   ],
   "source": [
    "alert = alert_data[df.select('candid').collect()[0].candid == alert_data['i:candid'].values]"
   ]
  },
  {
   "cell_type": "code",
   "execution_count": 65,
   "id": "badadef6",
   "metadata": {},
   "outputs": [],
   "source": [
    "# compare calculated values from those in the broker\n",
    "l1 = alert['d:lc_features_r'].values[0].split(',')\n",
    "l2 = [l1[0][1:]] + l1[1:-1] + [l1[-1][:-1]]\n",
    "l3 = np.array([float(item) for item in l2])"
   ]
  },
  {
   "cell_type": "code",
   "execution_count": 96,
   "id": "d00ae10b",
   "metadata": {},
   "outputs": [
    {
     "data": {
      "text/plain": [
       "26"
      ]
     },
     "execution_count": 96,
     "metadata": {},
     "output_type": "execute_result"
    }
   ],
   "source": [
    "len(l3)"
   ]
  },
  {
   "cell_type": "code",
   "execution_count": 93,
   "id": "994032bc",
   "metadata": {},
   "outputs": [],
   "source": [
    "l4 = list(full_result[2].values())"
   ]
  },
  {
   "cell_type": "code",
   "execution_count": 95,
   "id": "eb13d325",
   "metadata": {},
   "outputs": [
    {
     "data": {
      "text/plain": [
       "26"
      ]
     },
     "execution_count": 95,
     "metadata": {},
     "output_type": "execute_result"
    }
   ],
   "source": [
    "len(l4)"
   ]
  },
  {
   "cell_type": "code",
   "execution_count": 100,
   "id": "32b468c6",
   "metadata": {},
   "outputs": [
    {
     "data": {
      "image/png": "[encoded data removed]",
      "text/plain": [
       "<Figure size 640x480 with 1 Axes>"
      ]
     },
     "metadata": {},
     "output_type": "display_data"
    }
   ],
   "source": [
    "diff = [abs(l4[i] - l3[i]) for i in range(len(l4))]\n",
    "\n",
    "plt.hist(diff)\n",
    "plt.xlabel('calculated - from portal')\n",
    "plt.show()"
   ]
  },
  {
   "cell_type": "code",
   "execution_count": 101,
   "id": "2b76ce90",
   "metadata": {},
   "outputs": [],
   "source": [
    "## this is missing  --- remove duplicates\n",
    "sub2 = sub.drop_duplicates(subset=['jd'], keep='first') "
   ]
  },
  {
   "cell_type": "code",
   "execution_count": 119,
   "id": "5c57478f",
   "metadata": {},
   "outputs": [],
   "source": [
    "# check just r-band results before fixing the duplicated issue\n",
    "full_result2 = {}\n",
    "\n",
    "for passband_id in passbands: # for each passband\n",
    "    \n",
    "    passband = sub2[\"cfid\"].to_numpy() == passband_id # mask only 1 filter\n",
    "    \n",
    "    try:\n",
    "        result = extractor(\n",
    "                sub2[\"jd\"].to_numpy()[passband],\n",
    "                sub2[\"magpsf\"].to_numpy()[passband],\n",
    "                sub2[\"sigmapsf\"].to_numpy()[passband],\n",
    "                #fill_value=np.nan,\n",
    "            )\n",
    "    except ValueError as err:\n",
    "        # log if known error, then skip\n",
    "        if err.args[0] == \"t must be in ascending order\":\n",
    "            print(\n",
    "                    f\"Unordered jd for {oId} in processor '{__file__}/{extract_features_ad.__name__}'\"\n",
    "            )\n",
    "        else:\n",
    "            print(\n",
    "                f\"Unknown exception for {oId} in processor '{__file__}/{extract_features_ad.__name__}'\"\n",
    "            )\n",
    "        continue\n",
    "    except Exception:\n",
    "        print(\n",
    "            f\"Unknown exception for {oId} in processor '{__file__}/{extract_features_ad.__name__}'\"\n",
    "        )\n",
    "        continue\n",
    "       \n",
    "    full_result2[int(passband_id)] = dict(\n",
    "            zip(FEATURES_COLS, [float(v) for v in result])\n",
    "        )\n",
    "    "
   ]
  },
  {
   "cell_type": "code",
   "execution_count": 120,
   "id": "15f1bcbf",
   "metadata": {},
   "outputs": [
    {
     "data": {
      "text/plain": [
       "{1: {'mean': 14.35880071550731,\n",
       "  'weighted_mean': 14.349268148426722,\n",
       "  'standard_deviation': 0.04678840881811856,\n",
       "  'median': 14.354184780262417,\n",
       "  'amplitude': 0.07540063071876713,\n",
       "  'beyond_1_std': 0.45,\n",
       "  'cusum': 0.09310089391851831,\n",
       "  'inter_percentile_range_10': 0.11530453173099353,\n",
       "  'kurtosis': -1.57300287990567,\n",
       "  'linear_trend': 0.00012124160719001416,\n",
       "  'linear_trend_sigma': 0.0005991957241030409,\n",
       "  'linear_trend_noise': 0.04717338674637168,\n",
       "  'linear_fit_slope': 0.0001740028212633198,\n",
       "  'linear_fit_slope_sigma': 0.00020630963713685915,\n",
       "  'linear_fit_reduced_chi2': 9.962082406696375,\n",
       "  'magnitude_percentage_ratio_40_5': 0.4520395058070004,\n",
       "  'magnitude_percentage_ratio_20_10': 0.8450731265486418,\n",
       "  'maximum_slope': 292.4942689584346,\n",
       "  'median_absolute_deviation': 0.04402714340186886,\n",
       "  'median_buffer_range_percentage_10': 0.05,\n",
       "  'percent_amplitude': 0.08294225657360244,\n",
       "  'mean_variance': 0.0032585178766070424,\n",
       "  'anderson_darling_normal': 2.399765263066554,\n",
       "  'chi2': 9.805290049669647,\n",
       "  'skew': 0.01125856973423692,\n",
       "  'stetson_K': 0.8969948934041839},\n",
       " 2: {'mean': 13.263338514382438,\n",
       "  'weighted_mean': 13.264925257699607,\n",
       "  'standard_deviation': 0.0186549788501357,\n",
       "  'median': 13.271243410215286,\n",
       "  'amplitude': 0.024254106767432226,\n",
       "  'beyond_1_std': 0.4444444444444444,\n",
       "  'cusum': 0.4453214989970222,\n",
       "  'inter_percentile_range_10': 0.045447483219920315,\n",
       "  'kurtosis': -1.9314706304465101,\n",
       "  'linear_trend': 0.0002481367408328613,\n",
       "  'linear_trend_sigma': 0.0008418637383603094,\n",
       "  'linear_trend_noise': 0.019820396763905488,\n",
       "  'linear_fit_slope': -0.00032466500836105054,\n",
       "  'linear_fit_slope_sigma': 0.0009388771786491753,\n",
       "  'linear_fit_reduced_chi2': 0.8112103531637674,\n",
       "  'magnitude_percentage_ratio_40_5': 0.4449876348311284,\n",
       "  'magnitude_percentage_ratio_20_10': 0.8159690950897229,\n",
       "  'maximum_slope': 4.549877108362888,\n",
       "  'median_absolute_deviation': 0.016075045834137214,\n",
       "  'median_buffer_range_percentage_10': 0.1111111111111111,\n",
       "  'percent_amplitude': 0.03243316770072724,\n",
       "  'mean_variance': 0.001406507029124432,\n",
       "  'anderson_darling_normal': 0.5466471305155503,\n",
       "  'chi2': 0.7247563793712347,\n",
       "  'skew': -0.08879328009004218,\n",
       "  'stetson_K': 0.9456829635226768}}"
      ]
     },
     "execution_count": 120,
     "metadata": {},
     "output_type": "execute_result"
    }
   ],
   "source": [
    "full_result2"
   ]
  },
  {
   "cell_type": "code",
   "execution_count": null,
   "id": "ebce9f33",
   "metadata": {},
   "outputs": [],
   "source": []
  }
 ],
 "metadata": {
  "kernelspec": {
   "display_name": "Python 3 (ipykernel)",
   "language": "python",
   "name": "python3"
  },
  "language_info": {
   "codemirror_mode": {
    "name": "ipython",
    "version": 3
   },
   "file_extension": ".py",
   "mimetype": "text/x-python",
   "name": "python",
   "nbconvert_exporter": "python",
   "pygments_lexer": "ipython3",
   "version": "3.9.13"
  }
 },
 "nbformat": 4,
 "nbformat_minor": 5
}
