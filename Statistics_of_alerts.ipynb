{
 "cells": [
  {
   "cell_type": "code",
   "execution_count": 1,
   "id": "06e842dd",
   "metadata": {},
   "outputs": [
    {
     "name": "stderr",
     "output_type": "stream",
     "text": [
      "/opt/spark-3/python/pyspark/sql/pandas/functions.py:399: UserWarning: In Python 3.6+ and Spark 3.0+, it is preferred to specify type hints for pandas UDF instead of specifying pandas UDF type which will be deprecated in the future releases. See SPARK-28264 for more details.\n",
      "  warnings.warn(\n"
     ]
    }
   ],
   "source": [
    "import pyspark.sql.functions as F\n",
    "from pyspark.sql.functions import pandas_udf, PandasUDFType, udf, broadcast, StringType\n",
    "from pyspark.sql.types import IntegerType, BinaryType, ArrayType, BooleanType\n",
    "\n",
    "from astropy.coordinates import SkyCoord\n",
    "from astropy import units as u\n",
    "\n",
    "import matplotlib.pylab as plt\n",
    "import pandas as pd\n",
    "import numpy as np\n",
    "import glob\n",
    "\n",
    "from fink_filters.ztf.classification import extract_fink_classification\n",
    "from fink_utils.spark.utils import concat_col\n",
    "from fink_science.ztf.xmatch.processor import crossmatch_other_catalog"
   ]
  },
  {
   "cell_type": "code",
   "execution_count": 2,
   "id": "9bbbcb53",
   "metadata": {},
   "outputs": [],
   "source": [
    "# taken from https://github.com/astrolabsoftware/fink-science-portal/blob/b7326ed4febe0e106c1e93565ea622c1c95218e8/assets/spark_ztf_transfer.py#L112C1-L202C14\n",
    "# on 19 FEB 2024\n",
    "def add_classification(spark, df, path_to_tns):\n",
    "    \"\"\" Add classification from Fink & TNS\n",
    "\n",
    "    Parameters\n",
    "    ----------\n",
    "    spark:\n",
    "    df: DataFrame\n",
    "        Spark DataFrame containing ZTF alert data\n",
    "    path_to_tns: str\n",
    "        Path to TNS data (parquet)\n",
    "\n",
    "    Returns\n",
    "    ----------\n",
    "    df: DataFrame\n",
    "        Input DataFrame with 2 new columns `finkclass` and\n",
    "        `tnsclass` containing classification tags.\n",
    "    \"\"\"\n",
    "    # extract Fink classification\n",
    "    df = df.withColumn(\n",
    "        'finkclass',\n",
    "        extract_fink_classification(\n",
    "            df['cdsxmatch'],\n",
    "            df['roid'],\n",
    "            df['mulens'],\n",
    "            df['snn_snia_vs_nonia'],\n",
    "            df['snn_sn_vs_all'],\n",
    "            df['rf_snia_vs_nonia'],\n",
    "            df['candidate.ndethist'],\n",
    "            df['candidate.drb'],\n",
    "            df['candidate.classtar'],\n",
    "            df['candidate.jd'],\n",
    "            df['candidate.jdstarthist'],\n",
    "            df['rf_kn_vs_nonkn'],\n",
    "            df['tracklet']\n",
    "        )\n",
    "    )\n",
    "\n",
    "    pdf_tns_filt = pd.read_parquet(path_to_tns)\n",
    "    pdf_tns_filt_b = spark.sparkContext.broadcast(pdf_tns_filt)\n",
    "\n",
    "    @pandas_udf(StringType(), PandasUDFType.SCALAR)\n",
    "    def crossmatch_with_tns(objectid, ra, dec):\n",
    "        # TNS\n",
    "        pdf = pdf_tns_filt_b.value\n",
    "        ra2, dec2, type2 = pdf['ra'], pdf['declination'], pdf['type']\n",
    "\n",
    "        # create catalogs\n",
    "        catalog_ztf = SkyCoord(\n",
    "            ra=np.array(ra, dtype=np.float) * u.degree,\n",
    "            dec=np.array(dec, dtype=np.float) * u.degree\n",
    "        )\n",
    "        catalog_tns = SkyCoord(\n",
    "            ra=np.array(ra2, dtype=np.float) * u.degree,\n",
    "            dec=np.array(dec2, dtype=np.float) * u.degree\n",
    "        )\n",
    "\n",
    "        # cross-match\n",
    "        idx, d2d, d3d = catalog_tns.match_to_catalog_sky(catalog_ztf)\n",
    "\n",
    "        sub_pdf = pd.DataFrame({\n",
    "            'objectId': objectid.values,\n",
    "            'ra': ra.values,\n",
    "            'dec': dec.values,\n",
    "        })\n",
    "\n",
    "        # cross-match\n",
    "        idx2, d2d2, d3d2 = catalog_ztf.match_to_catalog_sky(catalog_tns)\n",
    "\n",
    "        # set separation length\n",
    "        sep_constraint2 = d2d2.degree < 1.5 / 3600\n",
    "\n",
    "        sub_pdf['TNS'] = ['Unknown'] * len(sub_pdf)\n",
    "        sub_pdf['TNS'][sep_constraint2] = type2.values[idx2[sep_constraint2]]\n",
    "\n",
    "        to_return = objectid.apply(\n",
    "            lambda x: 'Unknown' if x not in sub_pdf['objectId'].values\n",
    "            else sub_pdf['TNS'][sub_pdf['objectId'] == x].values[0]\n",
    "        )\n",
    "\n",
    "        return to_return\n",
    "\n",
    "    df = df.withColumn(\n",
    "        'v:tns_classification',\n",
    "        crossmatch_with_tns(\n",
    "            df['objectId'],\n",
    "            df['candidate.ra'],\n",
    "            df['candidate.dec']\n",
    "        )\n",
    "    )\n",
    "\n",
    "    return df\n",
    "\n"
   ]
  },
  {
   "cell_type": "code",
   "execution_count": 3,
   "id": "65593887",
   "metadata": {},
   "outputs": [],
   "source": [
    "cols0 = ['objectId']\n",
    "cols = [\n",
    "    F.col('candidate.ra').alias('ra'),\n",
    "    F.col('candidate.dec').alias('dec'),\n",
    "    F.col('candidate.fid').alias('fid'),\n",
    "    F.col('candidate.jd').alias('jd'),\n",
    "    F.col('candidate.magpsf').alias('magpsf'),\n",
    "    F.col('candidate.sigmapsf').alias('sigmapsf'),\n",
    "    F.col('candid'),\n",
    "    F.col('cmagpsf'),\n",
    "    F.col('csigmapsf'),\n",
    "    F.col('cfid'),\n",
    "    F.col('cjd'),\n",
    "    F.col('lc_features_r'),\n",
    "    F.col('prv_candidates').alias('prv_candidates'),\n",
    "    F.col('candidate.magap').alias('magap'),\n",
    "    F.col('candidate.sigmagap')\n",
    "]\n",
    "\n",
    "epochs = {\n",
    "    'epoch1': [\n",
    "        '../julien.peloton/archive/science/year=2025/month=07/day=31/',\n",
    "        '../julien.peloton/archive/science/year=2024/month=01/day=08/',\n",
    "        '../julien.peloton/archive/science/year=2023/month=04/day=16/',\n",
    "        '../julien.peloton/archive/science/year=2020/month=10/day=07/',\n",
    "        '../julien.peloton/archive/science/year=2023/month=03/day=18/'\n",
    "    ],\n",
    "    'epoch2':[\n",
    "        '../julien.peloton/archive/science/year=2024/month=08']}\n",
    "\n",
    "# path to TNS data\n",
    "path_to_tns = '/spark_mongo_tmp/julien.peloton/tns.parquet'\n"
   ]
  },
  {
   "cell_type": "code",
   "execution_count": 4,
   "id": "c9841421",
   "metadata": {},
   "outputs": [],
   "source": [
    "# Choose a day\n",
    "epoch = 'epoch1'\n",
    "indx = 4\n",
    "\n",
    "if epoch == 'epoch1':\n",
    "    to_load = epochs[epoch][indx]\n",
    "    date_to_print = to_load[-21:-17] + to_load[-10:-8] + to_load[-3:-1]\n",
    "else:\n",
    "    to_load = epochs[epoch][0]\n",
    "    date_to_print = to_load[-13:-9] + to_load[-2:]\n"
   ]
  },
  {
   "cell_type": "code",
   "execution_count": 5,
   "id": "16c5c9af",
   "metadata": {},
   "outputs": [
    {
     "data": {
      "text/plain": [
       "'20230318'"
      ]
     },
     "execution_count": 5,
     "metadata": {},
     "output_type": "execute_result"
    }
   ],
   "source": [
    "date_to_print"
   ]
  },
  {
   "cell_type": "code",
   "execution_count": 6,
   "id": "dac7d84f",
   "metadata": {},
   "outputs": [
    {
     "name": "stderr",
     "output_type": "stream",
     "text": [
      "25/08/11 18:37:15 WARN package: Truncated the string representation of a plan since it was too large. This behavior can be adjusted by setting 'spark.sql.debug.maxToStringFields'.\n"
     ]
    }
   ],
   "source": [
    "# Read data\n",
    "df1 = spark.read.format('parquet').option('basePath', \n",
    "                                  '../julien.peloton/archive/science').load(to_load)"
   ]
  },
  {
   "cell_type": "code",
   "execution_count": 7,
   "id": "f151f069",
   "metadata": {},
   "outputs": [
    {
     "name": "stderr",
     "output_type": "stream",
     "text": [
      "                                                                                \r"
     ]
    },
    {
     "data": {
      "text/plain": [
       "313916"
      ]
     },
     "execution_count": 7,
     "metadata": {},
     "output_type": "execute_result"
    }
   ],
   "source": [
    "df1.count()"
   ]
  },
  {
   "cell_type": "code",
   "execution_count": 8,
   "id": "120acd13",
   "metadata": {},
   "outputs": [],
   "source": [
    "# concatenate current and historical measurements\n",
    "to_expand = [\"jd\", \"magpsf\",\"fid\",\"sigmapsf\"]\n",
    "\n",
    "prefix='c'\n",
    "\n",
    "for colname in to_expand:\n",
    "        df1 = concat_col(df1, colname, prefix=prefix)"
   ]
  },
  {
   "cell_type": "code",
   "execution_count": 9,
   "id": "fb497f6c",
   "metadata": {},
   "outputs": [],
   "source": [
    " df2 = (df1\n",
    "    # zip the parallel arrays into an array of structs\n",
    "    .withColumn(\"z\", F.arrays_zip(\"cfid\", \"cmagpsf\", \"cjd\", \"csigmapsf\"))\n",
    "    # keep only positions r-band (cfid == 2)\n",
    "    .withColumn(\"z2\", F.expr(\"filter(z, x -> x.cfid = 1 AND x.cmagpsf IS NOT NULL AND x.cjd IS NOT NULL)\"))\n",
    "    # project masked arrays back out\n",
    "    .withColumn(\"cmagpsf_masked\", F.expr(\"transform(z2, x -> x.cmagpsf)\"))\n",
    "    .withColumn(\"cjd_masked\",     F.expr(\"transform(z2, x -> x.cjd)\"))\n",
    "    .withColumn(\"csigmapsf_masked\", F.expr(\"transform(z2, x -> x.csigmapsf)\"))\n",
    "    .withColumn(\"cfid_masked\", F.expr(\"transform(z2, x -> x.cfid)\"))\n",
    "    # count number of points in the r-band\n",
    "    .withColumn('n_rband', F.size('csigmapsf_masked'))\n",
    "    .drop(\"z\", \"z2\")\n",
    ")"
   ]
  },
  {
   "cell_type": "code",
   "execution_count": 10,
   "id": "7ca2313b",
   "metadata": {},
   "outputs": [
    {
     "name": "stderr",
     "output_type": "stream",
     "text": [
      "                                                                                \r"
     ]
    },
    {
     "data": {
      "text/plain": [
       "313916"
      ]
     },
     "execution_count": 10,
     "metadata": {},
     "output_type": "execute_result"
    }
   ],
   "source": [
    "df2.count()"
   ]
  },
  {
   "cell_type": "code",
   "execution_count": 11,
   "id": "94c05308",
   "metadata": {},
   "outputs": [
    {
     "name": "stderr",
     "output_type": "stream",
     "text": [
      "[Stage 11:==============================================>          (9 + 2) / 11]\r"
     ]
    },
    {
     "name": "stdout",
     "output_type": "stream",
     "text": [
      "+-------+---+---+---+---+---+\n",
      "|column |p05|p25|p50|p75|p95|\n",
      "+-------+---+---+---+---+---+\n",
      "|n_rband|0.0|0.0|1.0|1.0|3.0|\n",
      "+-------+---+---+---+---+---+\n",
      "\n"
     ]
    },
    {
     "name": "stderr",
     "output_type": "stream",
     "text": [
      "\r",
      "                                                                                \r"
     ]
    }
   ],
   "source": [
    "cols = [\"n_rband\"]\n",
    "q = [0.05, 0.25, 0.50, 0.75, 0.95]\n",
    "\n",
    "# relativeError=0 => most accurate (more work). Use 0.001 for faster.\n",
    "vals_per_col = df2.stat.approxQuantile(cols, q, relativeError=0)\n",
    "\n",
    "rows = [(c, *vals) for c, vals in zip(cols, vals_per_col)]\n",
    "out = spark.createDataFrame(rows, [\"column\", \"p05\", \"p25\", \"p50\", \"p75\", \"p95\"])\n",
    "out.show(truncate=False)"
   ]
  },
  {
   "cell_type": "code",
   "execution_count": 12,
   "id": "ba3966cb",
   "metadata": {},
   "outputs": [
    {
     "name": "stderr",
     "output_type": "stream",
     "text": [
      "[Stage 12:========================================>             (80 + 16) / 107]\r"
     ]
    },
    {
     "name": "stdout",
     "output_type": "stream",
     "text": [
      "9675\n"
     ]
    },
    {
     "name": "stderr",
     "output_type": "stream",
     "text": [
      "\r",
      "                                                                                \r"
     ]
    }
   ],
   "source": [
    "nrband = df2.filter(F.col('n_rband') > 3).count()\n",
    "print(nrband)"
   ]
  },
  {
   "cell_type": "code",
   "execution_count": 13,
   "id": "69ece8a4",
   "metadata": {},
   "outputs": [
    {
     "name": "stderr",
     "output_type": "stream",
     "text": [
      "\r",
      "[Stage 15:======================================>                (75 + 0) / 107]\r"
     ]
    },
    {
     "name": "stdout",
     "output_type": "stream",
     "text": [
      "3.082\n"
     ]
    },
    {
     "name": "stderr",
     "output_type": "stream",
     "text": [
      "\r",
      "                                                                                \r"
     ]
    }
   ],
   "source": [
    "per_rband = np.round(100 * nrband/df2.count(),3)\n",
    "print(per_rband)"
   ]
  },
  {
   "cell_type": "code",
   "execution_count": 14,
   "id": "907ec510",
   "metadata": {},
   "outputs": [
    {
     "name": "stderr",
     "output_type": "stream",
     "text": [
      "                                                                                \r"
     ]
    }
   ],
   "source": [
    "df_r = df2.filter(F.col('n_rband') > 3)\n",
    "nobjects = df2.count()\n",
    "nr = df_r.count()"
   ]
  },
  {
   "cell_type": "code",
   "execution_count": 15,
   "id": "12fd2f79",
   "metadata": {},
   "outputs": [
    {
     "name": "stderr",
     "output_type": "stream",
     "text": [
      "                                                                                \r"
     ]
    },
    {
     "data": {
      "image/png": "[encoded data removed]",
      "text/plain": [
       "<Figure size 800x500 with 1 Axes>"
      ]
     },
     "metadata": {},
     "output_type": "display_data"
    }
   ],
   "source": [
    "# Convert just the column to Pandas\n",
    "values = df_r.select(\"n_rband\").sample(False, 0.2, seed=42).toPandas()\n",
    "\n",
    "# Plot histogram\n",
    "plt.figure(figsize=(8, 5))\n",
    "plt.hist(values[\"n_rband\"].dropna(), bins=50)\n",
    "plt.title(date_to_print + ', total n_alerts=' + str(nobjects) + ', n_r > 3: ' + str(nr) + ', perc='+str(per_rband))\n",
    "plt.xlabel(\"number of points in r-band\")\n",
    "plt.ylabel(\"Frequency\")\n",
    "plt.tight_layout()\n",
    "plt.savefig(date_to_print + '.png')"
   ]
  },
  {
   "cell_type": "code",
   "execution_count": 23,
   "id": "966a5472",
   "metadata": {},
   "outputs": [],
   "source": [
    "df_big = df2.filter(F.col('n_rband')>20)"
   ]
  },
  {
   "cell_type": "code",
   "execution_count": 24,
   "id": "f6132d10",
   "metadata": {},
   "outputs": [
    {
     "name": "stderr",
     "output_type": "stream",
     "text": [
      "                                                                                \r"
     ]
    },
    {
     "data": {
      "text/plain": [
       "126"
      ]
     },
     "execution_count": 24,
     "metadata": {},
     "output_type": "execute_result"
    }
   ],
   "source": [
    "df_big.count()"
   ]
  },
  {
   "cell_type": "code",
   "execution_count": 25,
   "id": "b833d7dc",
   "metadata": {},
   "outputs": [],
   "source": [
    "df_big = df_big.withColumn('jd_gap', F.array_max(F.col(\"cjd\")) - F.array_min(F.col(\"cjd\")))"
   ]
  },
  {
   "cell_type": "code",
   "execution_count": 26,
   "id": "a2a6ed76",
   "metadata": {},
   "outputs": [
    {
     "name": "stderr",
     "output_type": "stream",
     "text": [
      "                                                                                \r"
     ]
    }
   ],
   "source": [
    "jd = df_big.select(['cjd_masked','cmagpsf_masked','n_rband']).toPandas()"
   ]
  },
  {
   "cell_type": "code",
   "execution_count": 27,
   "id": "5eaf2915",
   "metadata": {},
   "outputs": [
    {
     "data": {
      "text/plain": [
       "24.971041599754244"
      ]
     },
     "execution_count": 27,
     "metadata": {},
     "output_type": "execute_result"
    }
   ],
   "source": [
    "max(jd['cjd_masked'].values[0]) - min(jd['cjd_masked'].values[0])"
   ]
  },
  {
   "cell_type": "code",
   "execution_count": 28,
   "id": "f7ad94d4",
   "metadata": {},
   "outputs": [
    {
     "data": {
      "text/html": [
       "<div>\n",
       "<style scoped>\n",
       "    .dataframe tbody tr th:only-of-type {\n",
       "        vertical-align: middle;\n",
       "    }\n",
       "\n",
       "    .dataframe tbody tr th {\n",
       "        vertical-align: top;\n",
       "    }\n",
       "\n",
       "    .dataframe thead th {\n",
       "        text-align: right;\n",
       "    }\n",
       "</style>\n",
       "<table border=\"1\" class=\"dataframe\">\n",
       "  <thead>\n",
       "    <tr style=\"text-align: right;\">\n",
       "      <th></th>\n",
       "      <th>cjd_masked</th>\n",
       "      <th>cmagpsf_masked</th>\n",
       "      <th>n_rband</th>\n",
       "    </tr>\n",
       "  </thead>\n",
       "  <tbody>\n",
       "    <tr>\n",
       "      <th>0</th>\n",
       "      <td>[2459997.0531019, 2459997.0554514, 2459997.057...</td>\n",
       "      <td>[15.3672, 15.368, 15.5, 15.2619, 15.2619, 15.2...</td>\n",
       "      <td>21</td>\n",
       "    </tr>\n",
       "    <tr>\n",
       "      <th>1</th>\n",
       "      <td>[2459997.0531019, 2459997.0554514, 2459997.057...</td>\n",
       "      <td>[15.8954, 15.7613, 15.7734, 15.4818, 15.737, 1...</td>\n",
       "      <td>23</td>\n",
       "    </tr>\n",
       "    <tr>\n",
       "      <th>2</th>\n",
       "      <td>[2460017.0346528, 2460017.0370486, 2460017.039...</td>\n",
       "      <td>[18.6715, 18.6815, 18.6195, 18.5539, 18.1668, ...</td>\n",
       "      <td>23</td>\n",
       "    </tr>\n",
       "    <tr>\n",
       "      <th>3</th>\n",
       "      <td>[2459994.0586227, 2459994.0610532, 2459994.063...</td>\n",
       "      <td>[18.79, 18.8632, 18.8383, 18.8966, 18.9256, 18...</td>\n",
       "      <td>22</td>\n",
       "    </tr>\n",
       "    <tr>\n",
       "      <th>4</th>\n",
       "      <td>[2459997.0531019, 2459997.0554514, 2460017.022...</td>\n",
       "      <td>[16.607, 16.8373, 16.2544, 16.0514, 16.1356, 1...</td>\n",
       "      <td>21</td>\n",
       "    </tr>\n",
       "    <tr>\n",
       "      <th>...</th>\n",
       "      <td>...</td>\n",
       "      <td>...</td>\n",
       "      <td>...</td>\n",
       "    </tr>\n",
       "    <tr>\n",
       "      <th>121</th>\n",
       "      <td>[2460017.0346528, 2460017.0370486, 2460017.039...</td>\n",
       "      <td>[17.3477, 17.3345, 17.3169, 17.3413, 17.6436, ...</td>\n",
       "      <td>23</td>\n",
       "    </tr>\n",
       "    <tr>\n",
       "      <th>122</th>\n",
       "      <td>[2460017.0346528, 2460017.0370486, 2460017.039...</td>\n",
       "      <td>[14.5833, 14.5388, 14.593, 14.5516, 14.0225, 1...</td>\n",
       "      <td>21</td>\n",
       "    </tr>\n",
       "    <tr>\n",
       "      <th>123</th>\n",
       "      <td>[2459997.0531019, 2459997.0578241, 2459997.060...</td>\n",
       "      <td>[17.5965, 17.5754, 17.3551, 17.9285, 17.6954, ...</td>\n",
       "      <td>21</td>\n",
       "    </tr>\n",
       "    <tr>\n",
       "      <th>124</th>\n",
       "      <td>[2460017.0346528, 2460017.0370486, 2460017.039...</td>\n",
       "      <td>[18.4633, 18.4736, 18.4688, 18.4362, 18.668, 1...</td>\n",
       "      <td>23</td>\n",
       "    </tr>\n",
       "    <tr>\n",
       "      <th>125</th>\n",
       "      <td>[2460017.0346528, 2460017.0370486, 2460017.039...</td>\n",
       "      <td>[14.867, 14.8465, 14.7822, 14.8256, 14.7043, 1...</td>\n",
       "      <td>25</td>\n",
       "    </tr>\n",
       "  </tbody>\n",
       "</table>\n",
       "<p>126 rows × 3 columns</p>\n",
       "</div>"
      ],
      "text/plain": [
       "                                            cjd_masked  \\\n",
       "0    [2459997.0531019, 2459997.0554514, 2459997.057...   \n",
       "1    [2459997.0531019, 2459997.0554514, 2459997.057...   \n",
       "2    [2460017.0346528, 2460017.0370486, 2460017.039...   \n",
       "3    [2459994.0586227, 2459994.0610532, 2459994.063...   \n",
       "4    [2459997.0531019, 2459997.0554514, 2460017.022...   \n",
       "..                                                 ...   \n",
       "121  [2460017.0346528, 2460017.0370486, 2460017.039...   \n",
       "122  [2460017.0346528, 2460017.0370486, 2460017.039...   \n",
       "123  [2459997.0531019, 2459997.0578241, 2459997.060...   \n",
       "124  [2460017.0346528, 2460017.0370486, 2460017.039...   \n",
       "125  [2460017.0346528, 2460017.0370486, 2460017.039...   \n",
       "\n",
       "                                        cmagpsf_masked  n_rband  \n",
       "0    [15.3672, 15.368, 15.5, 15.2619, 15.2619, 15.2...       21  \n",
       "1    [15.8954, 15.7613, 15.7734, 15.4818, 15.737, 1...       23  \n",
       "2    [18.6715, 18.6815, 18.6195, 18.5539, 18.1668, ...       23  \n",
       "3    [18.79, 18.8632, 18.8383, 18.8966, 18.9256, 18...       22  \n",
       "4    [16.607, 16.8373, 16.2544, 16.0514, 16.1356, 1...       21  \n",
       "..                                                 ...      ...  \n",
       "121  [17.3477, 17.3345, 17.3169, 17.3413, 17.6436, ...       23  \n",
       "122  [14.5833, 14.5388, 14.593, 14.5516, 14.0225, 1...       21  \n",
       "123  [17.5965, 17.5754, 17.3551, 17.9285, 17.6954, ...       21  \n",
       "124  [18.4633, 18.4736, 18.4688, 18.4362, 18.668, 1...       23  \n",
       "125  [14.867, 14.8465, 14.7822, 14.8256, 14.7043, 1...       25  \n",
       "\n",
       "[126 rows x 3 columns]"
      ]
     },
     "execution_count": 28,
     "metadata": {},
     "output_type": "execute_result"
    }
   ],
   "source": [
    "jd"
   ]
  },
  {
   "cell_type": "code",
   "execution_count": 29,
   "id": "30158d65",
   "metadata": {},
   "outputs": [
    {
     "name": "stderr",
     "output_type": "stream",
     "text": [
      "\r",
      "[Stage 35:=====>                                                   (2 + 0) / 20]\r"
     ]
    },
    {
     "name": "stdout",
     "output_type": "stream",
     "text": [
      "+------------------+\n",
      "|            jd_gap|\n",
      "+------------------+\n",
      "|24.971041599754244|\n",
      "|24.976134200114757|\n",
      "| 5.006134200375527|\n",
      "| 27.96297449991107|\n",
      "|24.976134200114757|\n",
      "|27.927430599927902|\n",
      "| 24.96849530003965|\n",
      "| 5.003726799972355|\n",
      "| 5.003726799972355|\n",
      "|24.965948999859393|\n",
      "| 27.92696759989485|\n",
      "| 5.001319400034845|\n",
      "| 5.005671299993992|\n",
      "|  24.9735878999345|\n",
      "|  24.9735878999345|\n",
      "| 5.001319400034845|\n",
      "| 5.006134200375527|\n",
      "| 5.007071699947119|\n",
      "| 4.998912000097334|\n",
      "| 5.001319400034845|\n",
      "+------------------+\n",
      "only showing top 20 rows\n",
      "\n"
     ]
    },
    {
     "name": "stderr",
     "output_type": "stream",
     "text": [
      "\r",
      "[Stage 35:====================================>                   (13 + 7) / 20]\r",
      "\r",
      "                                                                                \r"
     ]
    }
   ],
   "source": [
    "df_big.select('jd_gap').show()"
   ]
  },
  {
   "cell_type": "markdown",
   "id": "5a8f4527",
   "metadata": {},
   "source": [
    "### Filter based on NaNs in the features"
   ]
  },
  {
   "cell_type": "code",
   "execution_count": 30,
   "id": "e28b2983",
   "metadata": {},
   "outputs": [],
   "source": [
    "struct_col = \"lc_features_r\"\n",
    "\n",
    "df3 = df2.filter(F.col(struct_col).isNotNull())\n",
    "\n",
    "# Build an array with all fields from the struct\n",
    "vals = F.array(*[F.col(f\"{struct_col}.{f.name}\")\n",
    "                 for f in df3.schema[struct_col].dataType.fields])\n",
    "\n",
    "# Drop rows where ANY value in the struct is NaN\n",
    "df_clean = df3.filter(~F.exists(vals, lambda v: F.isnan(v)))"
   ]
  },
  {
   "cell_type": "code",
   "execution_count": 31,
   "id": "780205cf",
   "metadata": {},
   "outputs": [],
   "source": [
    "df_small = df_clean.filter(F.col('n_rband') < 4)"
   ]
  },
  {
   "cell_type": "code",
   "execution_count": 32,
   "id": "be32b512",
   "metadata": {},
   "outputs": [
    {
     "name": "stderr",
     "output_type": "stream",
     "text": [
      "                                                                                \r"
     ]
    },
    {
     "data": {
      "text/plain": [
       "0"
      ]
     },
     "execution_count": 32,
     "metadata": {},
     "output_type": "execute_result"
    }
   ],
   "source": [
    "df_small.count()"
   ]
  },
  {
   "cell_type": "code",
   "execution_count": 33,
   "id": "98ca3e57",
   "metadata": {},
   "outputs": [
    {
     "name": "stderr",
     "output_type": "stream",
     "text": [
      "                                                                                \r"
     ]
    },
    {
     "data": {
      "text/plain": [
       "28655"
      ]
     },
     "execution_count": 33,
     "metadata": {},
     "output_type": "execute_result"
    }
   ],
   "source": [
    "df_clean.count()"
   ]
  },
  {
   "cell_type": "code",
   "execution_count": null,
   "id": "645f577e",
   "metadata": {},
   "outputs": [],
   "source": []
  }
 ],
 "metadata": {
  "kernelspec": {
   "display_name": "Python 3 (ipykernel)",
   "language": "python",
   "name": "python3"
  },
  "language_info": {
   "codemirror_mode": {
    "name": "ipython",
    "version": 3
   },
   "file_extension": ".py",
   "mimetype": "text/x-python",
   "name": "python",
   "nbconvert_exporter": "python",
   "pygments_lexer": "ipython3",
   "version": "3.9.13"
  }
 },
 "nbformat": 4,
 "nbformat_minor": 5
}
